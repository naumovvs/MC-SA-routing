{
 "cells": [
  {
   "cell_type": "code",
   "execution_count": 5,
   "metadata": {},
   "outputs": [],
   "source": [
    "from samat import *\n",
    "import time\n",
    "from matplotlib import pyplot as plt"
   ]
  },
  {
   "cell_type": "code",
   "execution_count": 6,
   "metadata": {},
   "outputs": [
    {
     "name": "stdout",
     "output_type": "stream",
     "text": [
      "[11826, 11832, 11833, 11835, 11836, 11837, 11838, 11841, 11842, 11845, 12109, 12113, 12117, 12132, 12267, 12300, 12644, 12645, 13245, 13247, 13253, 13254] [11833, 11835, 11836, 11838, 12645]\n",
      "[11826, 11832, 11835, 11836, 11837, 11838, 11841, 11842, 11845, 11976, 12053, 12070, 12076, 12109, 12113, 12117, 12131, 12132, 12252, 12267, 12300, 12644, 12645, 13245, 13247, 13253, 13254, 13264, 13268] [11826, 11836, 12076, 13264]\n",
      "[11826, 11832, 11834, 11835, 11836, 11837, 11838, 11841, 11842, 11845, 11976, 12053, 12070, 12076, 12109, 12113, 12117, 12131, 12132, 12252, 12267, 12300, 12644, 12645, 13245, 13247, 13253, 13254, 13264, 13267, 13268] [11834]\n"
     ]
    }
   ],
   "source": [
    "dd = DemandData()\n",
    "dd.read_points('./data/stations-2022.xlsx', verbose=False)\n",
    "dd.read_mtx('./data/odlR04.csv', excel=False, verbose=False)\n",
    "dd.load_prepared_data('./data/stacjeR04_07_01.csv', verbose=True)"
   ]
  },
  {
   "cell_type": "code",
   "execution_count": 7,
   "metadata": {},
   "outputs": [],
   "source": [
    "def print_solution(sol):\n",
    "    for day in range(len(sol)):\n",
    "        for route in sol[day]:\n",
    "            rdist = dd.route_distance(route)\n",
    "            print([p.ID for p in route], sum([p.demands[day] for p in route]), rdist)\n",
    "        print()"
   ]
  },
  {
   "cell_type": "code",
   "execution_count": 8,
   "metadata": {},
   "outputs": [
    {
     "name": "stdout",
     "output_type": "stream",
     "text": [
      "#1\n",
      "Initial distance: 2466.4544335\n",
      "Calculation time for initial solution: 1.1822290420532227\n",
      "\n",
      "Optimized distance: 2436.11563614\n",
      "Calculation time for SA: 78.42002725601196\n",
      "\n",
      "#2\n",
      "Initial distance: 2453.35835246\n",
      "Calculation time for initial solution: 1.068983793258667\n",
      "\n",
      "Optimized distance: 2417.4408853800005\n",
      "Calculation time for SA: 79.01022791862488\n",
      "\n",
      "#3\n",
      "Initial distance: 2450.24528146\n",
      "Calculation time for initial solution: 1.0838258266448975\n",
      "\n",
      "Optimized distance: 2364.420892\n",
      "Calculation time for SA: 78.86610889434814\n",
      "\n",
      "#4\n",
      "Initial distance: 2452.60856718\n",
      "Calculation time for initial solution: 1.0491890907287598\n",
      "\n",
      "Optimized distance: 2378.5887533200003\n",
      "Calculation time for SA: 81.62808179855347\n",
      "\n",
      "#5\n",
      "Initial distance: 2420.54572262\n",
      "Calculation time for initial solution: 1.1498641967773438\n",
      "\n",
      "Optimized distance: 2385.40215838\n",
      "Calculation time for SA: 79.73661065101624\n",
      "\n",
      "#6\n",
      "Initial distance: 2409.0006998400004\n",
      "Calculation time for initial solution: 1.0379879474639893\n",
      "\n",
      "Optimized distance: 2365.63935668\n",
      "Calculation time for SA: 74.62050819396973\n",
      "\n",
      "#7\n",
      "Initial distance: 2389.86307088\n",
      "Calculation time for initial solution: 1.0443589687347412\n",
      "\n",
      "Optimized distance: 2331.2368699999997\n",
      "Calculation time for SA: 76.80572485923767\n",
      "\n",
      "#8\n",
      "Initial distance: 2433.1636874200003\n",
      "Calculation time for initial solution: 1.0522799491882324\n",
      "\n",
      "Optimized distance: 2329.8968488\n",
      "Calculation time for SA: 77.97307014465332\n",
      "\n",
      "#9\n",
      "Initial distance: 2407.7608522200003\n",
      "Calculation time for initial solution: 1.0681371688842773\n",
      "\n",
      "Optimized distance: 2377.631995\n",
      "Calculation time for SA: 80.00585103034973\n",
      "\n",
      "#10\n",
      "Initial distance: 2502.88253316\n",
      "Calculation time for initial solution: 1.0306739807128906\n",
      "\n",
      "Optimized distance: 2437.2650304999997\n",
      "Calculation time for SA: 82.36517024040222\n",
      "\n",
      "#11\n",
      "Initial distance: 2472.5820032999995\n",
      "Calculation time for initial solution: 1.1586830615997314\n",
      "\n",
      "Optimized distance: 2377.921957\n",
      "Calculation time for SA: 81.06634402275085\n",
      "\n"
     ]
    }
   ],
   "source": [
    "with open('sa_experiment_1000_2.csv', 'w') as f:\n",
    "    for i in range(11):\n",
    "        print(f'#{i + 1}')\n",
    "        t = time.time()\n",
    "        sol = dd.generate_initial_solution(tries=1000)\n",
    "        # print_solution(sol)\n",
    "        print('Initial distance:', dd.solution_distance(sol))\n",
    "        init_time = time.time() - t\n",
    "        print('Calculation time for initial solution:', init_time)\n",
    "        f.write(f'{dd.solution_distance(sol)}\\t{init_time}\\t')\n",
    "        print()\n",
    "        t = time.time()\n",
    "        opt_solution = dd.optimize_solution(sol, end_temperature=1e-6)\n",
    "        # print_solution(opt_solution)\n",
    "        print('Optimized distance:', dd.solution_distance(opt_solution))\n",
    "        opt_time = time.time() - t\n",
    "        print('Calculation time for SA:', opt_time)\n",
    "        f.write(f'{dd.solution_distance(opt_solution)}\\t{opt_time}\\n')\n",
    "        print()"
   ]
  },
  {
   "cell_type": "code",
   "execution_count": null,
   "metadata": {},
   "outputs": [],
   "source": []
  }
 ],
 "metadata": {
  "kernelspec": {
   "display_name": "Python 3",
   "language": "python",
   "name": "python3"
  },
  "language_info": {
   "codemirror_mode": {
    "name": "ipython",
    "version": 3
   },
   "file_extension": ".py",
   "mimetype": "text/x-python",
   "name": "python",
   "nbconvert_exporter": "python",
   "pygments_lexer": "ipython3",
   "version": "3.9.0"
  }
 },
 "nbformat": 4,
 "nbformat_minor": 2
}
